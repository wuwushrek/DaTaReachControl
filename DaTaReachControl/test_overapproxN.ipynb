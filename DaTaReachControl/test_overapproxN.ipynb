{
 "cells": [
  {
   "cell_type": "code",
   "execution_count": 1,
   "metadata": {},
   "outputs": [],
   "source": [
    "import numpy as np\n",
    "from numpy import float64 as realN\n",
    "\n",
    "from overapprox_functionsN import *\n",
    "from intervalN import *\n",
    "from interval import and_numpy_int\n",
    "from numba import jit, typeof, typed\n",
    "\n",
    "from reachN import *\n",
    "from reach import *\n",
    "from DaTaReachControl import generateTraj, synthNextState, synthTraj,\\\n",
    "                                FOverApprox, GOverApprox,Interval\n",
    "\n",
    "import time\n",
    "import matplotlib.pyplot as plt\n",
    "%matplotlib widget\n",
    "%config InlineBackend.figure_format = 'svg'"
   ]
  },
  {
   "cell_type": "code",
   "execution_count": 2,
   "metadata": {},
   "outputs": [],
   "source": [
    "# Transformation from Interval type to Tuple(array type)\n",
    "def n2i(x_lb, x_ub):\n",
    "    if isinstance(x_lb, int) or isinstance(x_lb, float):\n",
    "        return Interval(float(x_lb), float(x_ub))\n",
    "    res = np.full(x_lb.shape, Interval(0),dtype=Interval)\n",
    "    if len(x_lb.shape) == 1:\n",
    "        for i in range(res.shape[0]):\n",
    "            res[i] = Interval(x_lb[i], x_ub[i])\n",
    "    elif len(x_lb.shape) == 2:\n",
    "        for i in range(res.shape[0]):\n",
    "            for j in range(res.shape[1]):\n",
    "                res[i,j] = Interval(x_lb[i,j], x_ub[i,j])\n",
    "    else:\n",
    "        for i in range(res.shape[0]):\n",
    "            for j in range(res.shape[1]):\n",
    "                for k in range(res.shape[2]):\n",
    "                    res[i,j,k] = Interval(x_lb[i,j,k], x_ub[i,j,k])\n",
    "    return res\n",
    "\n",
    "def i2n(intVal):\n",
    "    if isinstance(intVal, Interval):\n",
    "        return intVal.lb, intVal.ub\n",
    "    res_lb = np.empty(intVal.shape, dtype=realN)\n",
    "    res_ub = np.empty(intVal.shape, dtype=realN)\n",
    "    if len(intVal.shape) == 1:\n",
    "        for i in range(res_lb.shape[0]):\n",
    "            res_lb[i], res_ub[i] = intVal[i].lb, intVal[i].ub\n",
    "    elif len(intVal.shape) == 2:\n",
    "        for i in range(res_lb.shape[0]):\n",
    "            for j in range(res_lb.shape[1]):\n",
    "                res_lb[i,j], res_ub[i,j] = intVal[i,j].lb, intVal[i,j].ub\n",
    "    else:\n",
    "        for i in range(res_lb.shape[0]):\n",
    "            for j in range(res_lb.shape[1]):\n",
    "                for k in range(res_lb.shape[2]):\n",
    "                    res_lb[i,j,k], res_ub[i,j,k] = intVal[i,j,k].lb, intVal[i,j,k].ub\n",
    "    return res_lb, res_ub\n",
    "\n",
    "def gen_int(shape=None, minVal=-10, widthMax=10):\n",
    "    if shape is None:\n",
    "        lb = widthMax * np.random.random() + minVal\n",
    "        ub = lb + widthMax * np.random.random()\n",
    "        return Interval(float(lb), float(ub))\n",
    "    else:\n",
    "        lb = widthMax * np.random.random(shape) + minVal\n",
    "        ub = lb + widthMax * np.random.random(shape)\n",
    "        return n2i(lb,ub)"
   ]
  },
  {
   "cell_type": "code",
   "execution_count": 3,
   "metadata": {},
   "outputs": [],
   "source": [
    "# Define the Unicycle system dynamics and the initial trajectory is generated\n",
    "# randomnly from the data\n",
    "\n",
    "# Define a seed for repeatability\n",
    "np.random.seed(3338) # 801, 994, 3338\n",
    "# val = int(np.random.uniform(0,4000))\n",
    "# print (val)\n",
    "# np.random.seed(val)\n",
    "\n",
    "# Sampling time\n",
    "sampling_time = 0.1\n",
    "\n",
    "# Define the initial satte and the axis limits\n",
    "initial_state = np.array([-2, -2.5, np.pi/2])\n",
    "\n",
    "# Number of data in initial trajectory\n",
    "n_data_max = 20\n",
    "\n",
    "# max number of iteration\n",
    "max_iteration = 70 - n_data_max\n",
    "\n",
    "################### Input bounds  #################################\n",
    "v_max = 4\n",
    "w_max = 0.5 * (2*np.pi)\n",
    "v_min = -v_max\n",
    "w_min = -w_max\n",
    "input_lb = np.array([v_min, w_min])\n",
    "input_ub = np.array([v_max, w_max])\n",
    "\n",
    "# Generate input sequence\n",
    "v_seq = -1 *(np.random.rand(n_data_max,1) - 0) * v_max       # Go only backwards\n",
    "w_seq = 2 * (np.random.rand(n_data_max,1) - 0.5) * w_max\n",
    "nSep = int(n_data_max /2)\n",
    "sepIndexes = np.random.choice([ i for i in range(n_data_max)], nSep, replace=False)\n",
    "# The trajectory should try system response in each control direction\n",
    "w_seq[0,0] = 0.0 #\n",
    "v_seq[0,0] = 0.0\n",
    "for i in range(1,nSep):\n",
    "  v_or_theta = np.random.randint(0,2)\n",
    "  if v_or_theta == 0: # pick v\n",
    "    w_seq[sepIndexes[i],0] = 0\n",
    "  else: # pick theta\n",
    "    v_seq[sepIndexes[i],0] = 0\n",
    "rand_init_input_vec = np.hstack((v_seq,w_seq))\n",
    "# print (rand_init_input_vec)\n",
    "###################################################################\n",
    "\n",
    "# Generate the random trajectory corresponding to random input sequence\n",
    "rand_init_traj_vec = np.zeros((n_data_max + 1, initial_state.size))\n",
    "rand_init_traj_der_vec = np.zeros((n_data_max, initial_state.size))\n",
    "#######################################################################\n",
    "\n",
    "# Input signal for the reachable set computation\n",
    "c_vmax = rand_init_input_vec[-1,0] * -0.5\n",
    "c_wmax = rand_init_input_vec[-1,1] * 0.3\n",
    "c_rot = 6\n",
    "t_end = (n_data_max-1) * sampling_time\n",
    "\n",
    "@jit(nopython=True, parallel=False, fastmath=True)\n",
    "def uOver(t_lb, t_ub):\n",
    "    if t_lb <= t_end+(0.9*sampling_time):\n",
    "        indx = int(t_lb / sampling_time)\n",
    "        return rand_init_input_vec[indx,:], rand_init_input_vec[indx,:] \n",
    "    x_lb = np.empty(2, dtype=realN)\n",
    "    x_ub = np.empty(2, dtype=realN)\n",
    "    x_lb[0] = c_vmax\n",
    "    x_ub[0] = c_vmax\n",
    "    x_lb[1], x_ub[1] = cos_i(c_rot*(t_lb-t_end), c_rot*(t_ub-t_end))\n",
    "    x_lb[1], x_ub[1] = mul_i_scalar(x_lb[1], x_ub[1], c_wmax)\n",
    "    return x_lb, x_ub\n",
    "\n",
    "def uOverO(intT):\n",
    "    x_lb, x_ub = uOver(intT.lb, intT.ub)\n",
    "    return n2i(x_lb, x_ub).reshape(-1,1)\n",
    "\n",
    "@jit(nopython=True, parallel=False, fastmath=True)\n",
    "def uOverDer(t_lb, t_ub):\n",
    "    x_lb = np.zeros(2, dtype=realN)\n",
    "    x_ub = np.zeros(2, dtype=realN)\n",
    "    if t_lb <= t_end+(0.9*sampling_time):\n",
    "        return x_lb, x_ub\n",
    "    x_lb[1], x_ub[1] = sin_i(c_rot*(t_lb-t_end), c_rot*(t_ub-t_end))\n",
    "    x_lb[1], x_ub[1] = mul_i_scalar(x_lb[1], x_ub[1], -c_wmax * c_rot)\n",
    "    return x_lb, x_ub\n",
    "\n",
    "def uOverDerO(intT):\n",
    "    x_lb, x_ub = uOverDer(intT.lb, intT.ub)\n",
    "    return n2i(x_lb, x_ub).reshape(-1,1)\n",
    "#######################################################################\n",
    "\n",
    "########################### Unknown dynamic ###########################\n",
    "def fFun(x):\n",
    "    return np.zeros(3)\n",
    "def GFun(x):\n",
    "    return np.array([[np.cos(x[2]), 0], [np.sin(x[2]), 0], [0.0, 1.0]])\n",
    "def uFun(t):\n",
    "    u_t, _ = uOver(t, t)\n",
    "    return u_t.reshape(-1,1)\n",
    "#######################################################################\n",
    "\n",
    "# Generate a trajectory and use it to compare the over-approximation by\n",
    "# the new algorithm and the old algorithm\n",
    "nPoint = 81\n",
    "dt = 0.05\n",
    "# Create the time tables\n",
    "tVal_1 = np.array([ i*dt for i in range(nPoint+1)])\n",
    "tMeas = np.array([i*sampling_time for i in range(rand_init_traj_der_vec.shape[0])])\n",
    "# Obtain the trajectory via ode solver\n",
    "tVal_1, traj, trajDot = synthTraj(fFun, GFun, uFun, initial_state, tVal_1, atol=1e-10, rtol=1e-10)\n",
    "tVal = tVal_1[:-1]\n",
    "# New u value for comparison\n",
    "u_values = np.empty((rand_init_input_vec.shape[1], nPoint))\n",
    "# Create the u table by first adding the u applied during the trajectory\n",
    "# used to learn the dynamics\n",
    "repeat_val = int(sampling_time/dt)\n",
    "for i in range(u_values.shape[1]):\n",
    "    t_lb, t_ub = uOver(tVal[i], tVal[i])\n",
    "    u_values[:,i] = t_lb[:]\n",
    "\n",
    "# Construct the state evolution and the state derivative evolution\n",
    "x_values = traj\n",
    "xdot_values = trajDot[:,:-1]\n",
    "\n",
    "# Now redefine the state and theur derivative\n",
    "for i in range(0, repeat_val*rand_init_input_vec.shape[0], repeat_val):\n",
    "    rand_init_input_vec[int(i/repeat_val),:] = u_values[:,i] \n",
    "    rand_init_traj_der_vec[int(i/repeat_val),:] = xdot_values[:,i]\n",
    "    rand_init_traj_vec[int(i/repeat_val),:] = x_values[:,i]\n",
    "rand_init_traj_vec[-1,:] = x_values[:,repeat_val*rand_init_input_vec.shape[0]]"
   ]
  },
  {
   "cell_type": "code",
   "execution_count": 4,
   "metadata": {},
   "outputs": [
    {
     "data": {
      "application/vnd.jupyter.widget-view+json": {
       "model_id": "a182380029d4425cad5624c8d249e18d",
       "version_major": 2,
       "version_minor": 0
      },
      "text/plain": [
       "Canvas(toolbar=Toolbar(toolitems=[('Home', 'Reset original view', 'home', 'home'), ('Back', 'Back to previous …"
      ]
     },
     "metadata": {},
     "output_type": "display_data"
    },
    {
     "data": {
      "application/vnd.jupyter.widget-view+json": {
       "model_id": "be93d4ca378f489f8d1cf19bb3d3a2d7",
       "version_major": 2,
       "version_minor": 0
      },
      "text/plain": [
       "Canvas(toolbar=Toolbar(toolitems=[('Home', 'Reset original view', 'home', 'home'), ('Back', 'Back to previous …"
      ]
     },
     "metadata": {},
     "output_type": "display_data"
    },
    {
     "data": {
      "application/vnd.jupyter.widget-view+json": {
       "model_id": "9e5ead9ea41d4bab87d093b0f705a978",
       "version_major": 2,
       "version_minor": 0
      },
      "text/plain": [
       "Canvas(toolbar=Toolbar(toolitems=[('Home', 'Reset original view', 'home', 'home'), ('Back', 'Back to previous …"
      ]
     },
     "metadata": {},
     "output_type": "display_data"
    },
    {
     "data": {
      "application/vnd.jupyter.widget-view+json": {
       "model_id": "b05a12b0682c40e2a5e2233ef20bb6a3",
       "version_major": 2,
       "version_minor": 0
      },
      "text/plain": [
       "Canvas(toolbar=Toolbar(toolitems=[('Home', 'Reset original view', 'home', 'home'), ('Back', 'Back to previous …"
      ]
     },
     "metadata": {},
     "output_type": "display_data"
    },
    {
     "data": {
      "application/vnd.jupyter.widget-view+json": {
       "model_id": "2d62f7797c604162839b596b291b93d9",
       "version_major": 2,
       "version_minor": 0
      },
      "text/plain": [
       "Canvas(toolbar=Toolbar(toolitems=[('Home', 'Reset original view', 'home', 'home'), ('Back', 'Back to previous …"
      ]
     },
     "metadata": {},
     "output_type": "display_data"
    },
    {
     "data": {
      "application/vnd.jupyter.widget-view+json": {
       "model_id": "923b2a3f443949bcb253b5eaaff4ce9f",
       "version_major": 2,
       "version_minor": 0
      },
      "text/plain": [
       "Canvas(toolbar=Toolbar(toolitems=[('Home', 'Reset original view', 'home', 'home'), ('Back', 'Back to previous …"
      ]
     },
     "metadata": {},
     "output_type": "display_data"
    }
   ],
   "source": [
    "# Preview the trajectory\n",
    "import matplotlib.pyplot as plt\n",
    "%matplotlib widget\n",
    "%config InlineBackend.figure_format = 'svg'\n",
    "plt.style.use('dark_background')\n",
    "yaxis_label  = ['$\\dot{p}_x$', '$\\dot{p}_y$', '$\\dot{\\theta}$']\n",
    "stateLabel  = ['$p_x$', '$p_y$', '$\\theta$']\n",
    "label_name  = ['$\\dot{x}$', '$\\mathrm{HC4revise}$', '$\\mathrm{ExcitationBased}$']\n",
    "for i in range(xdot_values.shape[0]):\n",
    "    plt.figure()\n",
    "    plt.plot(tVal, xdot_values[i,:], \"red\", label='$\\dot{x}$')\n",
    "    plt.plot(tMeas, rand_init_traj_der_vec[:,i], 'b*', label='$\\mathscr{T}$')\n",
    "    plt.xlabel('Time (s)')\n",
    "    plt.ylabel(yaxis_label[i])\n",
    "    plt.legend(loc='best')\n",
    "    plt.grid(True)\n",
    "    plt.tight_layout()\n",
    "    plt.show()\n",
    "\n",
    "for i in range(xdot_values.shape[0]):\n",
    "    plt.figure()\n",
    "    plt.plot(tVal, x_values[i,:-1], \"red\", label=stateLabel[i])\n",
    "    plt.plot(tMeas, rand_init_traj_vec[:-1,i], 'b*', label='$\\mathscr{T}$')\n",
    "    plt.xlabel('Time (s)')\n",
    "    plt.ylabel(stateLabel[i])\n",
    "    plt.legend(loc='best')\n",
    "    plt.grid(True)\n",
    "    plt.tight_layout()\n",
    "    plt.show()"
   ]
  },
  {
   "cell_type": "code",
   "execution_count": 5,
   "metadata": {},
   "outputs": [],
   "source": [
    "Lf = np.array([0, 0, 0], dtype=realN)\n",
    "LG = np.array([[1,0],[1,0],[0,0]], dtype=realN)\n",
    "bG = Dict(*depTypebG)\n",
    "bG[(0,0)] = (-1.0,1.0)\n",
    "bG[(1,0)] = (-1.0,1.0)\n",
    "\n",
    "nDepG = Dict(*depTypeG)\n",
    "nDepG[(0,0)] = np.array([0,1],dtype=np.int64)\n",
    "nDepG[(1,0)] = np.array([0,1],dtype=np.int64)\n",
    "\n",
    "@jit(nopython=True)\n",
    "def knownGfun(x_lb, x_ub):\n",
    "    res_lb = np.zeros((3,2),dtype=realN)\n",
    "    res_ub = np.zeros((3,2),dtype=realN)\n",
    "    res_lb[2,1] = 1\n",
    "    res_ub[2,1] = 1\n",
    "    # res_lb[0,0], res_ub[0,0] = cos_i(x_lb[2], x_ub[2])\n",
    "    return res_lb, res_ub\n",
    "\n",
    "overApprox = initOverApprox(Lf, LG,  Lfknown=None, LGknown=None, nvDepF=depTypeF,\n",
    "        nvDepG=nDepG, bf=depTypebf , bG =bG , bGf = depTypeGradF,\n",
    "        bGG=depTypeGradG, xTraj=rand_init_traj_vec.T,\n",
    "        xDotTraj=rand_init_traj_der_vec.T, uTraj=rand_init_input_vec.T,\n",
    "        useGronwall=True, verbose=False, Gknown=knownGfun)"
   ]
  },
  {
   "cell_type": "code",
   "execution_count": 7,
   "metadata": {},
   "outputs": [
    {
     "data": {
      "text/plain": [
       "(True, True)"
      ]
     },
     "execution_count": 7,
     "metadata": {},
     "output_type": "execute_result"
    }
   ],
   "source": [
    "canApproximate(overApprox)"
   ]
  },
  {
   "cell_type": "code",
   "execution_count": 6,
   "metadata": {},
   "outputs": [],
   "source": [
    "bGx = {}\n",
    "bGx[(0,0)] = Interval(-1.0,1.0)\n",
    "bGx[(1,0)] = Interval(-1.0,1.0)\n",
    "nDepGx = {}\n",
    "nDepGx[(0,0)] = np.array([0,1],dtype=np.int64)\n",
    "nDepGx[(1,0)] = np.array([0,1],dtype=np.int64)\n",
    "knownG = {(2,1) : {-1 : lambda x : 1,\n",
    "                    0 : lambda x : 0,\n",
    "                    1 : lambda x : 0,\n",
    "                    2 : lambda x : 0}}\n",
    "fOverO = FOverApprox(Lf.reshape(-1,1), traj={'x' : rand_init_traj_vec.T,\n",
    "                                    'xDot' : rand_init_traj_der_vec.T,\n",
    "                                    'u' : rand_init_input_vec.T},\n",
    "                    nDep={}, bf={}, bGf={}, knownFun={},\n",
    "                    Lknown=None, learnLip=False, verbose=False)\n",
    "GoverO = GOverApprox(LG, fOverO, traj={'x' : rand_init_traj_vec.T,\n",
    "                                    'xDot' : rand_init_traj_der_vec.T,\n",
    "                                    'u' : rand_init_input_vec.T},\n",
    "                    nDep=nDepGx, bG=bGx, bGG={}, knownFun=knownG,\n",
    "                    Lknown=None, learnLip=False, verbose=False)"
   ]
  },
  {
   "cell_type": "code",
   "execution_count": 8,
   "metadata": {},
   "outputs": [
    {
     "name": "stdout",
     "output_type": "stream",
     "text": [
      "Numba :  0.0009009838104248047\n",
      "Default :  0.006118297576904297\n",
      "[[[0.0546397 , 0.3480496]]\n",
      " [[0.0106795 , 0.2720523]]]\n",
      "[[-2.0743704 , -2.0716792] [-2.7593217 , -2.7245168]\n",
      " [1.5315239 , 1.5587292]]\n",
      "[[[-2.0748938 , -2.0730035]]\n",
      " [[-2.7593217 , -2.7245168]]\n",
      " [[1.5315239 , 1.5587292]]]\n",
      "[[[-2.1124192 , -2.0363216]]\n",
      " [[-2.7973705 , -2.7212729]]\n",
      " [[1.4934752 , 1.5695727]]]\n"
     ]
    }
   ],
   "source": [
    "@jit(nopython=True)\n",
    "def test_n(x, randve):\n",
    "    for i in range(randve.shape[1]):\n",
    "        Gover(x, randve[:,i], randve[:,i], knownGfun)\n",
    "\n",
    "# @jit(nopython=True)\n",
    "def test_o(x, randve):\n",
    "    for i in range(randve.shape[1]):\n",
    "        x(np.array([[randve[j,i]] for j in range(randve.shape[0])]))\n",
    "\n",
    "def test_inclusion(numb, old, randve):\n",
    "    for i in range(randve.shape[1]):\n",
    "        val = Gover(numb, randve[:,i], randve[:,i], knownGfun)\n",
    "        convVal = n2i(*val)\n",
    "        val2 = old(np.array([[randve[j,i]] for j in range(randve.shape[0])]))\n",
    "        for k in range(val2.shape[0]):\n",
    "            for l in range(val2.shape[1]):\n",
    "                # print(val2[k,l], convVal[k,l])\n",
    "                assert val2[k,l].contains(convVal[k,l])\n",
    "\n",
    "\n",
    "x_min = np.min(rand_init_traj_vec.T, axis=1)\n",
    "x_max = np.max(rand_init_traj_vec.T, axis=1)\n",
    "res_x = np.zeros((x_min.shape[0], 20))\n",
    "for i in range(res_x.shape[1]):\n",
    "    res_x[:,i] = ((x_max - x_min) * np.random.random() + x_min)[:]\n",
    "    # print(typeof(res_x[:,i]))\n",
    "\n",
    "test_inclusion(overApprox, GoverO, res_x)\n",
    "test_n(overApprox, res_x)\n",
    "\n",
    "s = time.time()\n",
    "test_n(overApprox, res_x)\n",
    "print('Numba : ', time.time()-s)\n",
    "\n",
    "s = time.time()\n",
    "test_o(GoverO, res_x)\n",
    "print('Default : ', time.time()-s)\n",
    "\n",
    "uVal = gen_int(2, minVal=-0.2, widthMax=0.4)\n",
    "uN = i2n(uVal)\n",
    "uVal = uVal.reshape(-1,1)\n",
    "\n",
    "print(uVal)\n",
    "dtCoeff = getCoeffGronwall(overApprox, sampling_time, *uN)\n",
    "\n",
    "r_lb, r_ub = fixpoint(overApprox, res_x[:,0], res_x[:,0], sampling_time, *uN,\n",
    "             knownf=None, knownG=knownGfun, hOver=None)\n",
    "\n",
    "r_old = fixpointRecursive(np.array([[res_x[j,0]] for j in range(res_x.shape[0])]),\n",
    "                sampling_time, uVal, fOverO, GoverO)\n",
    "\n",
    "r_2 = fixpointGronwall(np.array([[res_x[j,0]] for j in range(res_x.shape[0])]),\n",
    "                            dtCoeff, uVal, fOverO, GoverO)\n",
    "print (n2i(r_lb,r_ub))\n",
    "print(r_old)\n",
    "print(r_2)"
   ]
  },
  {
   "cell_type": "code",
   "execution_count": 9,
   "metadata": {},
   "outputs": [],
   "source": [
    "# Compute the different over-approximation\n",
    "@jit(nopython=True, parallel=False, fastmath=True)\n",
    "def h_numba(approxObj):\n",
    "    res_lb = np.zeros((x_values.shape[0],nPoint))\n",
    "    res_ub = np.zeros((x_values.shape[0],nPoint))\n",
    "    for i in range(nPoint):\n",
    "        f_lb, f_ub = fover(approxObj, x_values[:,i], x_values[:,i])\n",
    "        G_lb, G_ub = Gover(approxObj, x_values[:,i], x_values[:,i], knownG=knownGfun)\n",
    "        res_lb[:,i], res_ub[:,i] = add_i(f_lb, f_ub, *mul_Ms_i(G_lb, G_ub, u_values[:,i]))\n",
    "    return res_lb, res_ub\n",
    "\n",
    "def h_old(intX,uVal):\n",
    "    return fOverO(intX) + np.matmul(GoverO(intX), uVal.reshape(-1,1))  \n",
    "_ = h_numba(overApprox)"
   ]
  },
  {
   "cell_type": "code",
   "execution_count": 10,
   "metadata": {},
   "outputs": [
    {
     "name": "stdout",
     "output_type": "stream",
     "text": [
      "0.010094404220581055\n"
     ]
    },
    {
     "data": {
      "text/plain": [
       "0.04052877426147461"
      ]
     },
     "execution_count": 10,
     "metadata": {},
     "output_type": "execute_result"
    }
   ],
   "source": [
    "s_time = time.time()\n",
    "resn_lb, resn_ub =  h_numba(overApprox)\n",
    "print(time.time() - s_time)\n",
    "s_time = time.time()\n",
    "reso = np.full((x_values.shape[0],nPoint), Interval(0))\n",
    "for i in range(nPoint):\n",
    "    reso[:,i] = h_old(x_values[:,i].reshape(-1,1), u_values[:,i])[:,0]\n",
    "reso_lb, reso_ub = i2n(reso)\n",
    "time.time() - s_time\n",
    "    # Save the data"
   ]
  },
  {
   "cell_type": "code",
   "execution_count": 11,
   "metadata": {},
   "outputs": [
    {
     "data": {
      "application/vnd.jupyter.widget-view+json": {
       "model_id": "323cb644a43c4ba4beedada83548b67f",
       "version_major": 2,
       "version_minor": 0
      },
      "text/plain": [
       "Canvas(toolbar=Toolbar(toolitems=[('Home', 'Reset original view', 'home', 'home'), ('Back', 'Back to previous …"
      ]
     },
     "metadata": {},
     "output_type": "display_data"
    },
    {
     "data": {
      "application/vnd.jupyter.widget-view+json": {
       "model_id": "e62920d32656486e91213225067b423c",
       "version_major": 2,
       "version_minor": 0
      },
      "text/plain": [
       "Canvas(toolbar=Toolbar(toolitems=[('Home', 'Reset original view', 'home', 'home'), ('Back', 'Back to previous …"
      ]
     },
     "metadata": {},
     "output_type": "display_data"
    },
    {
     "data": {
      "application/vnd.jupyter.widget-view+json": {
       "model_id": "b049df045f974074a329fbadcad263fe",
       "version_major": 2,
       "version_minor": 0
      },
      "text/plain": [
       "Canvas(toolbar=Toolbar(toolitems=[('Home', 'Reset original view', 'home', 'home'), ('Back', 'Back to previous …"
      ]
     },
     "metadata": {},
     "output_type": "display_data"
    }
   ],
   "source": [
    "import matplotlib.pyplot as plt\n",
    "%matplotlib widget\n",
    "%config InlineBackend.figure_format = 'svg'\n",
    "plt.style.use('dark_background')\n",
    "yaxis_label  = ['$\\dot{p}_x$', '$\\dot{p}_y$', '$\\theta$']\n",
    "label_name  = ['$\\dot{x}$', '$\\mathrm{HC4revise}$', '$\\mathrm{ExcitationBased}$']\n",
    "zoomInd = rand_init_input_vec.shape[0]*repeat_val\n",
    "for i in range(xdot_values.shape[0]):\n",
    "    plt.figure()\n",
    "    plt.plot(tVal, xdot_values[i,:], \"red\", label='$\\dot{x}$')\n",
    "    plt.plot(tMeas, rand_init_traj_der_vec[:,i], 'b*')\n",
    "    plt.fill_between(tVal, reso_lb[i,:], reso_ub[i,:], alpha=0.6, facecolor='tab:cyan', label='$\\mathrm{ExcitationBased}$')\n",
    "    plt.fill_between(tVal, resn_lb[i,:], resn_ub[i,:], alpha=0.9, facecolor='tab:green', label='$\\mathrm{HC4revise}$')\n",
    "    plt.xlabel('Time (s)')\n",
    "    plt.ylabel(yaxis_label[i])\n",
    "    plt.legend(loc='best')\n",
    "    plt.grid(True)\n",
    "    plt.tight_layout()\n",
    "    plt.show()\n",
    "    "
   ]
  },
  {
   "cell_type": "code",
   "execution_count": 13,
   "metadata": {},
   "outputs": [
    {
     "name": "stdout",
     "output_type": "stream",
     "text": [
      "###############################################\n"
     ]
    }
   ],
   "source": [
    "# Discretization for the reachable sets computation\n",
    "dt_reach = 0.05\n",
    "@jit(nopython=True, parallel=False, fastmath=True)\n",
    "def reachSetN(overApprox):\n",
    "    res_lb = np.empty((x_values.shape[0], x_values.shape[1]+1), dtype=realN)\n",
    "    res_ub = np.empty((x_values.shape[0], x_values.shape[1]+1), dtype=realN)\n",
    "    res_lb[:,0] = rand_init_traj_vec[0,:]\n",
    "    res_ub[:,0] = rand_init_traj_vec[0,:]\n",
    "    for i in range(rand_init_input_vec.shape[0]):\n",
    "        curr_x = rand_init_traj_vec[i,:]\n",
    "        curr_u = rand_init_input_vec[i,:]\n",
    "        _, x_lb, x_ub = DaTaReachN(overApprox, curr_x, curr_x, tMeas[i], repeat_val, dt, \n",
    "                                uOver, uOverDer, knownG=knownGfun)\n",
    "        for p in range(repeat_val):\n",
    "            res_lb[:,i*repeat_val+p+1] = x_lb[:,p+1]\n",
    "            res_ub[:,i*repeat_val+p+1] = x_ub[:,p+1]\n",
    "    _, x_lb, x_ub = DaTaReachN(overApprox, rand_init_traj_vec[-1,:], rand_init_traj_vec[-1,:], \n",
    "                        t_end+sampling_time, x_values.shape[1]-repeat_val*rand_init_input_vec.shape[0], \n",
    "                        dt, uOver, uOverDer, knownG=knownGfun)\n",
    "    for p in range(x_lb.shape[1]-1):\n",
    "        res_lb[:,repeat_val*rand_init_input_vec.shape[0]+p+1] = x_lb[:,p+1]\n",
    "        res_ub[:,repeat_val*rand_init_input_vec.shape[0]+p+1] = x_ub[:,p+1]\n",
    "    return res_lb, res_ub\n",
    "\n",
    "def reachSetO():\n",
    "    res_lb = np.full((x_values.shape[0], x_values.shape[1]+1), Interval(0))\n",
    "    res_lb[:,0] = np.array([Interval(rand_init_traj_vec[0,i]) for i in range(x_values.shape[0])])\n",
    "    for i in range(rand_init_input_vec.shape[0]):\n",
    "        curr_x = np.array([Interval(rand_init_traj_vec[i,j]) for j in range(x_values.shape[0])]).reshape(-1,1)\n",
    "        curr_u = rand_init_input_vec[i,:].reshape(-1,1)\n",
    "        _, x_lb = DaTaReach(curr_x, tMeas[i], repeat_val, dt, fOverO, GoverO, uOverO, uOverDerO, useFast=True)\n",
    "        for p in range(repeat_val):\n",
    "            res_lb[:,i*repeat_val+p+1] = x_lb[:,p+1]\n",
    "    endPoint = np.array([Interval(rand_init_traj_vec[-1,i]) for i in range(x_values.shape[0])]).reshape(-1,1)\n",
    "    _, x_lb = DaTaReach(endPoint, t_end+sampling_time, x_values.shape[1]-repeat_val*rand_init_input_vec.shape[0], \n",
    "                       dt, fOverO, GoverO, uOverO, uOverDerO, useFast=True)\n",
    "    for p in range(x_lb.shape[1]-1):\n",
    "        res_lb[:,repeat_val*rand_init_input_vec.shape[0]+p+1] = x_lb[:,p+1]\n",
    "    return res_lb\n",
    "    \n",
    "_,_ = reachSetN(overApprox)\n",
    "print('###############################################')\n",
    "_ = reachSetO()"
   ]
  },
  {
   "cell_type": "code",
   "execution_count": 14,
   "metadata": {},
   "outputs": [
    {
     "name": "stdout",
     "output_type": "stream",
     "text": [
      "0.014092206954956055\n"
     ]
    },
    {
     "data": {
      "text/plain": [
       "0.23214459419250488"
      ]
     },
     "execution_count": 14,
     "metadata": {},
     "output_type": "execute_result"
    }
   ],
   "source": [
    "# COmpute the over-approximations\n",
    "s_time = time.time()\n",
    "reachn_lb, reachn_ub =  reachSetN(overApprox)\n",
    "print(time.time() - s_time)\n",
    "\n",
    "s_time = time.time()\n",
    "reachO = reachSetO()\n",
    "reacho_lb, reacho_ub = i2n(reachO)\n",
    "time.time() - s_time\n",
    "    # Save the data"
   ]
  },
  {
   "cell_type": "code",
   "execution_count": 15,
   "metadata": {},
   "outputs": [
    {
     "data": {
      "application/vnd.jupyter.widget-view+json": {
       "model_id": "09dff1bc945b4bba886ebcc0084295a2",
       "version_major": 2,
       "version_minor": 0
      },
      "text/plain": [
       "Canvas(toolbar=Toolbar(toolitems=[('Home', 'Reset original view', 'home', 'home'), ('Back', 'Back to previous …"
      ]
     },
     "metadata": {},
     "output_type": "display_data"
    },
    {
     "data": {
      "application/vnd.jupyter.widget-view+json": {
       "model_id": "9102525f61c4486faa86f903d8ee6aec",
       "version_major": 2,
       "version_minor": 0
      },
      "text/plain": [
       "Canvas(toolbar=Toolbar(toolitems=[('Home', 'Reset original view', 'home', 'home'), ('Back', 'Back to previous …"
      ]
     },
     "metadata": {},
     "output_type": "display_data"
    },
    {
     "data": {
      "application/vnd.jupyter.widget-view+json": {
       "model_id": "ea47fe1645924b7ebbfd3368a0a4ec73",
       "version_major": 2,
       "version_minor": 0
      },
      "text/plain": [
       "Canvas(toolbar=Toolbar(toolitems=[('Home', 'Reset original view', 'home', 'home'), ('Back', 'Back to previous …"
      ]
     },
     "metadata": {},
     "output_type": "display_data"
    }
   ],
   "source": [
    "# Preview the trajectory\n",
    "import matplotlib.pyplot as plt\n",
    "%matplotlib widget\n",
    "%config InlineBackend.figure_format = 'svg'\n",
    "plt.style.use('dark_background')\n",
    "yaxis_label  = ['$\\dot{p}_x$', '$\\dot{p}_y$', '$\\dot{\\theta}$']\n",
    "stateLabel  = ['$p_x$', '$p_y$', '$\\theta$']\n",
    "label_name  = ['$\\dot{x}$', '$\\mathrm{HC4revise}$', '$\\mathrm{ExcitationBased}$']\n",
    "\n",
    "for i in range(xdot_values.shape[0]):\n",
    "    plt.figure()\n",
    "    plt.plot(tVal, x_values[i,:-1], \"red\", label=stateLabel[i])\n",
    "    plt.plot(tMeas, rand_init_traj_vec[:-1,i], 'b*', label='$\\mathscr{T}$')\n",
    "    plt.fill_between(tVal, reacho_lb[i,:-2], reacho_ub[i,:-2], alpha=0.6, facecolor='tab:cyan', label='$\\mathrm{ExcitationBased}$')\n",
    "    plt.fill_between(tVal, reachn_lb[i,:-2], reachn_ub[i,:-2], alpha=0.9, facecolor='tab:green', label='$\\mathrm{HC4revise}$')\n",
    "    plt.xlabel('Time (s)')\n",
    "    plt.ylabel(stateLabel[i])\n",
    "    plt.legend(loc='best')\n",
    "    plt.grid(True)\n",
    "    plt.tight_layout()\n",
    "    plt.show()"
   ]
  },
  {
   "cell_type": "code",
   "execution_count": 16,
   "metadata": {},
   "outputs": [
    {
     "data": {
      "application/vnd.jupyter.widget-view+json": {
       "model_id": "6f646f41070841c2bf56347d09c68285",
       "version_major": 2,
       "version_minor": 0
      },
      "text/plain": [
       "Canvas(toolbar=Toolbar(toolitems=[('Home', 'Reset original view', 'home', 'home'), ('Back', 'Back to previous …"
      ]
     },
     "metadata": {},
     "output_type": "display_data"
    }
   ],
   "source": [
    "# Proceed to the 2-D plot of the trajectory\n",
    "import matplotlib.pyplot as plt\n",
    "%matplotlib widget\n",
    "%config InlineBackend.figure_format = 'svg'\n",
    "plt.style.use('dark_background')\n",
    "\n",
    "plt.figure()\n",
    "plt.plot(x_values[0,:-1], x_values[1,:-1], 'red', label='$\\mathrm{Unknown \\ trajectory}$')\n",
    "plt.plot(rand_init_traj_vec[:-1,0], rand_init_traj_vec[:-1,1], 'b*', label='$\\mathscr{T}$')\n",
    "\n",
    "first = True\n",
    "for i in range(tVal.shape[0]):\n",
    "    x1,x2,y1,y2 = reacho_lb[0,i], reacho_ub[0,i], reacho_lb[1,i], reacho_ub[1,i]\n",
    "    if first:\n",
    "        plt.fill([x1,x2,x2,x1], [y1,y1,y2,y2],\\\n",
    "                facecolor='tab:green', edgecolor='darkgreen', alpha=0.8,\\\n",
    "                label='$\\mathrm{HC4revise}$')\n",
    "        first = False\n",
    "    plt.fill([x1,x2,x2,x1], [y1,y1,y2,y2],\\\n",
    "        facecolor='tab:green', edgecolor='darkgreen', alpha=0.8)\n",
    "\n",
    "first = True\n",
    "for i in range(tVal.shape[0]):\n",
    "    x1,x2,y1,y2 = reachn_lb[0,i], reachn_ub[0,i], reachn_lb[1,i], reachn_ub[1,i]\n",
    "    if first:\n",
    "        plt.fill([x1,x2,x2,x1], [y1,y1,y2,y2],\\\n",
    "                facecolor='tab:cyan', edgecolor='darkcyan', alpha=0.8,\\\n",
    "                label='$\\mathrm{ExcitationBased}$')\n",
    "        first = False\n",
    "    plt.fill([x1,x2,x2,x1], [y1,y1,y2,y2],\\\n",
    "        facecolor='tab:cyan', edgecolor='darkcyan', alpha=0.8)\n",
    "    \n",
    "plt.xlabel('$p_x$')\n",
    "plt.ylabel('$p_y$')\n",
    "plt.legend(loc='best')\n",
    "plt.grid(True)\n",
    "plt.tight_layout()\n",
    "plt.show()"
   ]
  },
  {
   "cell_type": "code",
   "execution_count": 18,
   "metadata": {},
   "outputs": [
    {
     "name": "stdout",
     "output_type": "stream",
     "text": [
      "0.09801960187872605\n"
     ]
    }
   ],
   "source": [
    "U_lb = np.array([-v_max, -w_max])\n",
    "U_ub = np.array([v_max, w_max])\n",
    "\n",
    "coeff = getCoeffGronwall(overApprox, dt, U_lb, U_ub)\n",
    "print(coeff)\n",
    "b_lb, b_ub, A1_lb, A1_ub, A2_lb, A2_ub = controlAffineOverApprox(overApprox, rand_init_traj_vec[-1,:], dt, U_lb, U_ub, knownG=knownGfun, gronwallCoeff=coeff)\n",
    "\n",
    "from DaTaReachControl.control import computeAffineLinear\n",
    "b_val, A_val = computeAffineLinear(rand_init_traj_vec[-1,:].reshape(-1,1), dt, fOverO, GoverO, n2i(U_lb, U_ub).reshape(-1,1), \n",
    "                                                    coeff, fixpointWidenCoeff=0.2, zeroDiameter=1e-5, widenZeroInterval=1e-3, gronwall=True)"
   ]
  },
  {
   "cell_type": "code",
   "execution_count": 19,
   "metadata": {},
   "outputs": [
    {
     "name": "stdout",
     "output_type": "stream",
     "text": [
      "0.0003261566162109375\n",
      "0.0033469200134277344\n"
     ]
    }
   ],
   "source": [
    "s_time = time.time()\n",
    "b_lb, b_ub, A1_lb, A1_ub, A2_lb, A2_ub = controlAffineOverApprox(overApprox, rand_init_traj_vec[-1,:], dt, U_lb, U_ub, knownG=knownGfun, gronwallCoeff=coeff)\n",
    "print(time.time()-s_time)\n",
    "s_time = time.time()\n",
    "b_val, A_val = computeAffineLinear(rand_init_traj_vec[-1,:].reshape(-1,1), dt, fOverO, GoverO, n2i(U_lb, U_ub).reshape(-1,1), \n",
    "                                                    coeff, fixpointWidenCoeff=0.2, zeroDiameter=1e-5, widenZeroInterval=1e-3, gronwall=True)\n",
    "print(time.time()-s_time)"
   ]
  },
  {
   "cell_type": "code",
   "execution_count": 20,
   "metadata": {},
   "outputs": [
    {
     "name": "stdout",
     "output_type": "stream",
     "text": [
      "[[-2.5904129 , -2.5904129] [-4.4306366 , -4.4306366]\n",
      " [0.9421056 , 0.9421056]]\n",
      "[[-2.5904129 , -2.5904129] [-4.4306366 , -4.4306366]\n",
      " [0.9421056 , 0.9421056]]\n"
     ]
    }
   ],
   "source": [
    "print(n2i(b_lb, b_ub))\n",
    "print(b_val.flatten())"
   ]
  },
  {
   "cell_type": "code",
   "execution_count": 21,
   "metadata": {},
   "outputs": [
    {
     "name": "stdout",
     "output_type": "stream",
     "text": [
      "[[[0.0293201 , 0.0300793] [-0.0050000 , 0.0050000]]\n",
      " [[0.0397480 , 0.0406174] [-0.0050000 , 0.0050000]]\n",
      " [[0.0000000 , 0.0000000] [0.0500000 , 0.0500000]]]\n",
      "[[0.0220692 , 0.0300793] [-0.0050000 , 0.0050000]]\n",
      "[[[0.0253931 , 0.0340063] [0.0000000 , 0.0000000]]\n",
      " [[0.0358210 , 0.0445444] [0.0000000 , 0.0000000]]\n",
      " [[0.0000000 , 0.0000000] [0.0500000 , 0.0500000]]]\n",
      "[[0.0386580 , 0.0466681] [-0.0050000 , 0.0050000]]\n"
     ]
    }
   ],
   "source": [
    "print(n2i(A1_lb, A1_ub))\n",
    "print(A_val[0])\n",
    "\n",
    "print(n2i(A2_lb, A2_ub))\n",
    "print(A_val[1])"
   ]
  }
 ],
 "metadata": {
  "kernelspec": {
   "display_name": "Python 3",
   "language": "python",
   "name": "python3"
  },
  "language_info": {
   "codemirror_mode": {
    "name": "ipython",
    "version": 3
   },
   "file_extension": ".py",
   "mimetype": "text/x-python",
   "name": "python",
   "nbconvert_exporter": "python",
   "pygments_lexer": "ipython3",
   "version": "3.7.6"
  }
 },
 "nbformat": 4,
 "nbformat_minor": 4
}
