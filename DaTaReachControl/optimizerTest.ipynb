{
 "cells": [
  {
   "cell_type": "code",
   "execution_count": 1,
   "metadata": {},
   "outputs": [],
   "source": [
    "import gurobipy as gp\n",
    "import numpy as np\n",
    "import time\n",
    "\n",
    "from weightedPointControlPGDAR import *\n",
    "from weightedPointControlGRb import *"
   ]
  },
  {
   "cell_type": "code",
   "execution_count": 2,
   "metadata": {},
   "outputs": [],
   "source": [
    "# val = int(np.random.uniform(0,4000))\n",
    "# print (val)\n",
    "# np.random.seed(val)\n",
    "# np.random.seed(2386)\n",
    "nS = 5\n",
    "nC = 3\n",
    "\n",
    "A1_lb = np.random.random((nS,nC))\n",
    "A1_ub = A1_lb + 0.1*np.random.random((nS,nC))\n",
    "A2_lb = A1_lb\n",
    "A2_ub = A1_ub\n",
    "b_lb = np.random.random(nS)\n",
    "b_ub = b_lb + 0.01 * np.random.random(nS)\n",
    "\n",
    "Q = np.random.random((nS,nS))\n",
    "Q = Q @ Q.T\n",
    "q = np.random.random(nS)\n",
    "R = np.zeros((nC,nC), dtype=np.float64)\n",
    "S = np.zeros((nS, nC), dtype=np.float64)\n",
    "r = np.zeros(nC, dtype=np.float64)\n",
    "\n",
    "u_lb = - np.random.random(nC)\n",
    "u_ub = np.random.random(nC)\n",
    "\n",
    "w1 = np.random.random()\n",
    "w2 = np.random.random()\n",
    "w3 = np.random.random()"
   ]
  },
  {
   "cell_type": "code",
   "execution_count": 3,
   "metadata": {},
   "outputs": [
    {
     "name": "stdout",
     "output_type": "stream",
     "text": [
      "\n",
      "--------------------------------------------\n",
      "Warning: your license will expire in 4 days\n",
      "--------------------------------------------\n",
      "\n",
      "Using license file /home/franck/gurobi.lic\n",
      "Academic license - for non-commercial use only\n",
      "0.0013968944549560547\n",
      "[ 0.          0.         -0.30800512]\n",
      "-2.3065454033128083\n"
     ]
    }
   ],
   "source": [
    "# Midpoint with GUrbobi\n",
    "initMidpointProblem(u_lb, u_ub)\n",
    "tC = time.time()\n",
    "uGrb, cGrb = solveWeightedProblem(A1_lb, A1_ub, A2_lb, A2_ub, b_lb, b_ub, u_lb, u_ub,\n",
    "                            2, Q, S, R, q, r, w1, w2, w3, verbose=False)\n",
    "print(time.time() - tC)\n",
    "print(uGrb)\n",
    "print(cGrb)"
   ]
  },
  {
   "cell_type": "code",
   "execution_count": 4,
   "metadata": {},
   "outputs": [
    {
     "name": "stdout",
     "output_type": "stream",
     "text": [
      "3.3248953819274902\n",
      "[ 0.          0.         -0.30800512]\n",
      "-2.3065454033128088\n"
     ]
    }
   ],
   "source": [
    "# Midpoint with Accelerated Projected Gradient With Gradient Restart Scheme\n",
    "tC = time.time()\n",
    "uAPG, cAPG = solveWeightedProblemAPGDAR(A1_lb, A1_ub, A2_lb, A2_ub, b_lb, b_ub, u_lb, u_ub,\n",
    "                            2, Q, S, R, q, r, w1, w2, w3, epsTol=1e-8)\n",
    "print(time.time() - tC)\n",
    "print(uAPG)\n",
    "print(cAPG)"
   ]
  },
  {
   "cell_type": "code",
   "execution_count": 5,
   "metadata": {},
   "outputs": [
    {
     "name": "stdout",
     "output_type": "stream",
     "text": [
      "0.014175653457641602\n",
      "[ 0.          0.         -0.30800512] 7.960088847859777\n"
     ]
    }
   ],
   "source": [
    "# Check the optimistic problem\n",
    "from optimisticControlGrb import *\n",
    "initOptimisticProblem(nS, nC, None, None, None, None, None, u_lb, u_ub)\n",
    "updateCost(Q, S, R, q, r)\n",
    "tC = time.time()\n",
    "uOp, cOp = solveOptimisticProblem(A1_lb, A1_ub, A2_lb, A2_ub, b_lb, b_ub,\n",
    "            u_lb, u_ub, 2, verbose=False)\n",
    "print(time.time() - tC)\n",
    "print(uOp, cOp)"
   ]
  }
 ],
 "metadata": {
  "kernelspec": {
   "display_name": "Python 3",
   "language": "python",
   "name": "python3"
  },
  "language_info": {
   "codemirror_mode": {
    "name": "ipython",
    "version": 3
   },
   "file_extension": ".py",
   "mimetype": "text/x-python",
   "name": "python",
   "nbconvert_exporter": "python",
   "pygments_lexer": "ipython3",
   "version": "3.7.6"
  }
 },
 "nbformat": 4,
 "nbformat_minor": 4
}
