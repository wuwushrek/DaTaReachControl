{
 "cells": [
  {
   "cell_type": "code",
   "execution_count": 1,
   "metadata": {},
   "outputs": [],
   "source": [
    "import gurobipy as gp\n",
    "import numpy as np\n",
    "import time\n",
    "\n",
    "from DaTaReachControl.idealisticControlGrb import *\n",
    "from DaTaReachControl.idealisticControlAPGDAR import *\n",
    "from DaTaReachControl.optimisticControlGrb import *"
   ]
  },
  {
   "cell_type": "code",
   "execution_count": 9,
   "metadata": {},
   "outputs": [],
   "source": [
    "# val = int(np.random.uniform(0,4000))\n",
    "# print (val)\n",
    "# np.random.seed(val)\n",
    "# np.random.seed(2386)\n",
    "nS = 5\n",
    "nC = 3\n",
    "\n",
    "A1_lb = np.random.random((nS,nC))\n",
    "A1_ub = A1_lb + 0.1*np.random.random((nS,nC))\n",
    "A2_lb = A1_lb\n",
    "A2_ub = A1_ub\n",
    "b_lb = np.random.random(nS)\n",
    "b_ub = b_lb + 0.01 * np.random.random(nS)\n",
    "\n",
    "Q = np.random.random((nS,nS))\n",
    "Q = Q @ Q.T\n",
    "q = np.random.random(nS)\n",
    "R = np.zeros((nC,nC), dtype=np.float64)\n",
    "S = np.zeros((nS, nC), dtype=np.float64)\n",
    "r = np.zeros(nC, dtype=np.float64)\n",
    "\n",
    "u_lb = (np.random.random(nC) - 0.5) * 2\n",
    "u_ub = u_lb + np.random.random(nC)\n",
    "\n",
    "w1 = np.random.random()\n",
    "w2 = np.random.random()\n",
    "w3 = np.random.random()"
   ]
  },
  {
   "cell_type": "code",
   "execution_count": 30,
   "metadata": {},
   "outputs": [
    {
     "name": "stdout",
     "output_type": "stream",
     "text": [
      "[ 0.05035154 -0.01709445 -0.11797619] [0.36259868 0.31701789 1.00362112]\n"
     ]
    }
   ],
   "source": [
    "u_lb[2] = -u_lb[2]\n",
    "print (u_lb, u_ub)"
   ]
  },
  {
   "cell_type": "code",
   "execution_count": 11,
   "metadata": {},
   "outputs": [],
   "source": [
    "# Midpoint with GUrbobi\n",
    "initIdealisticProblemGrb(u_lb, u_ub)"
   ]
  },
  {
   "cell_type": "code",
   "execution_count": 38,
   "metadata": {},
   "outputs": [
    {
     "name": "stdout",
     "output_type": "stream",
     "text": [
      "0.0018947124481201172\n",
      "[ 0.05035154 -0.01709445  0.        ]\n",
      "0.4667641848391332\n"
     ]
    }
   ],
   "source": [
    "tC = time.time()\n",
    "uGrb, cGrb = solveIdealisticProblemGrb(A1_lb, A1_ub, A2_lb, A2_ub, b_lb, b_ub, u_lb, u_ub,\n",
    "                            1, Q, S, R, q, r, w1, w2, w3, verbose=False)\n",
    "print(time.time() - tC)\n",
    "print(uGrb)\n",
    "print(cGrb)"
   ]
  },
  {
   "cell_type": "code",
   "execution_count": 39,
   "metadata": {},
   "outputs": [
    {
     "name": "stdout",
     "output_type": "stream",
     "text": [
      "2\n",
      "0.0023581981658935547\n",
      "[ 0.05035154 -0.01709445  0.        ]\n",
      "0.46676418394140695\n"
     ]
    }
   ],
   "source": [
    "# Midpoint with Accelerated Projected Gradient With Gradient Restart Scheme\n",
    "tC = time.time()\n",
    "uAPG, cAPG = solveIdealisticProblemAPGDAR(A1_lb, A1_ub, A2_lb, A2_ub, b_lb, b_ub, u_lb, u_ub,\n",
    "                            1, Q, S, R, q, r, w1, w2, w3, epsTol=1e-8)\n",
    "print(time.time() - tC)\n",
    "print(uAPG)\n",
    "print(cAPG)"
   ]
  },
  {
   "cell_type": "code",
   "execution_count": 14,
   "metadata": {},
   "outputs": [],
   "source": [
    "# Check the optimistic problem\n",
    "initOptimisticProblemGrb(nS, nC, None, None, None, None, None, u_lb, u_ub)"
   ]
  },
  {
   "cell_type": "code",
   "execution_count": 40,
   "metadata": {},
   "outputs": [
    {
     "name": "stdout",
     "output_type": "stream",
     "text": [
      "0.0024695396423339844\n",
      "[ 0.05035154 -0.01709445  0.        ] 5.299882334688636\n"
     ]
    }
   ],
   "source": [
    "updateCost(Q, S, R, q, r)\n",
    "tC = time.time()\n",
    "uOp, cOp = solveOptimisticProblemGrb(A1_lb, A1_ub, A2_lb, A2_ub, b_lb, b_ub,\n",
    "            u_lb, u_ub, 1, verbose=False)\n",
    "print(time.time() - tC)\n",
    "print(uOp, cOp)"
   ]
  }
 ],
 "metadata": {
  "kernelspec": {
   "display_name": "Python 3",
   "language": "python",
   "name": "python3"
  },
  "language_info": {
   "codemirror_mode": {
    "name": "ipython",
    "version": 3
   },
   "file_extension": ".py",
   "mimetype": "text/x-python",
   "name": "python",
   "nbconvert_exporter": "python",
   "pygments_lexer": "ipython3",
   "version": "3.7.6"
  }
 },
 "nbformat": 4,
 "nbformat_minor": 4
}
