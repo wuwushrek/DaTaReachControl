{
 "cells": [
  {
   "cell_type": "code",
   "execution_count": 1,
   "metadata": {},
   "outputs": [],
   "source": [
    "import numpy as np\n",
    "from numpy import float64 as realN\n",
    "\n",
    "from overapprox_functionsN import *\n",
    "from intervalN import *\n",
    "from interval import and_numpy_int\n",
    "from numba import jit, typeof, typed"
   ]
  },
  {
   "cell_type": "code",
   "execution_count": 13,
   "metadata": {},
   "outputs": [
    {
     "name": "stdout",
     "output_type": "stream",
     "text": [
      "-0.01 0.060000000000000005\n",
      "[-0.05 -0.1 ]\n",
      "[0.02 0.6 ]\n"
     ]
    }
   ],
   "source": [
    "Glb = np.array([-0.05,-0.1])\n",
    "Gub = np.array([0.05,1])\n",
    "f_lb, f_ub = hc4Revise(0.0, -0.01, 0.1, Glb, Gub, np.array([1.0,0.1]))\n",
    "print (f_lb, f_ub)\n",
    "print(Glb)\n",
    "print(Gub)"
   ]
  }
 ],
 "metadata": {
  "kernelspec": {
   "display_name": "Python 3",
   "language": "python",
   "name": "python3"
  },
  "language_info": {
   "codemirror_mode": {
    "name": "ipython",
    "version": 3
   },
   "file_extension": ".py",
   "mimetype": "text/x-python",
   "name": "python",
   "nbconvert_exporter": "python",
   "pygments_lexer": "ipython3",
   "version": "3.7.6"
  }
 },
 "nbformat": 4,
 "nbformat_minor": 4
}
